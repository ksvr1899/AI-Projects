{
  "nbformat": 4,
  "nbformat_minor": 0,
  "metadata": {
    "colab": {
      "provenance": [],
      "include_colab_link": true
    },
    "kernelspec": {
      "name": "python3",
      "display_name": "Python 3"
    }
  },
  "cells": [
    {
      "cell_type": "markdown",
      "metadata": {
        "id": "view-in-github",
        "colab_type": "text"
      },
      "source": [
        "<a href=\"https://colab.research.google.com/github/ksvr1899/AI-Projects/blob/main/CS3793_5233_assignment2_dmm203.ipynb\" target=\"_parent\"><img src=\"https://colab.research.google.com/assets/colab-badge.svg\" alt=\"Open In Colab\"/></a>"
      ]
    },
    {
      "cell_type": "markdown",
      "metadata": {
        "id": "9wUL_Fy5qUDI"
      },
      "source": [
        "\n",
        "\n",
        "```\n",
        "# This is formatted as code\n",
        "```\n",
        "\n",
        "# UTSA CS 3793/5233: Assignment-2\n",
        "\n",
        "**KUNDURU - SAIVARDHAN REDDY - (dmm203)**\n",
        "\n",
        "\n",
        "\n",
        "\n"
      ]
    },
    {
      "cell_type": "markdown",
      "metadata": {
        "id": "NM8b9KVYsETT"
      },
      "source": [
        "## Learning Objectives\n",
        "\n",
        "\n",
        "\n",
        "*   Game Playing\n",
        "*   Chess - Board Setup & Rules\n",
        "*   Adversarial Search\n",
        "*   AI - Random vs MinMax\n"
      ]
    },
    {
      "cell_type": "markdown",
      "metadata": {
        "id": "LzR4Ic34zJlT"
      },
      "source": [
        "\n",
        "## Description\n",
        "\n",
        "This assignment is focused on **game playing** and creating a proper **AI for chess**.\n",
        "In the following sections, you will complete a series of tasks to create a chess game board, rules for each chess piece, a Random AI and a MinMax AI that plays a game of chess for both players (white and black).\n",
        "\n",
        "The base structure of the code is provided. You are supposed to write code for each of the functions. Comments are provided on what should be done. You **CANNOT** use a complete chess library and change the base code structure completely. However, you **CAN** change the code layout and name/format of the functions.\n"
      ]
    },
    {
      "cell_type": "markdown",
      "metadata": {
        "id": "YeYRnesWqvLm"
      },
      "source": [
        "#Chess Board Setup & Rules\n",
        "\n",
        "In this section, you will write code to import the necessary libraries and create:\n",
        "\n",
        "1.   **ChessBoard** - This part will contain code to initialize the board, draw the board, get the board state and move piece.\n",
        "2.   **ChessRules** - This part will contain code for the chess rules for each piece.\n",
        "\n"
      ]
    },
    {
      "cell_type": "markdown",
      "metadata": {
        "id": "vnPfmHAOteOI"
      },
      "source": [
        "##Import Libraries\n",
        "\n",
        "The code here will contain only **import** statements. A base list of the required libraries are already imported. You will most likely not need any other libraries, but if needed, add the import statements here. As mentioned before, you can not use any premade chess libraries."
      ]
    },
    {
      "cell_type": "code",
      "metadata": {
        "id": "f9apbZGptej6"
      },
      "source": [
        "# your code goes here\n",
        "import string\n",
        "import random\n",
        "import os\n",
        "import sys\n",
        "import time\n",
        "from IPython.display import clear_output\n"
      ],
      "execution_count": null,
      "outputs": []
    },
    {
      "cell_type": "markdown",
      "metadata": {
        "id": "IUVZIK6ctMi4"
      },
      "source": [
        "##ChessBoard\n",
        "\n",
        "(10 points)\n",
        "\n",
        "Fill the code in the code structure provided below for the ChessBoard. The main use of this code block write functions to initialize the board, draw the board, get the board state and move piece. You can add any other functions if needed.\n"
      ]
    },
    {
      "cell_type": "code",
      "metadata": {
        "id": "YdPwgSBOtb1P"
      },
      "source": [
        "import string\n",
        "import random\n",
        "import os\n",
        "import sys\n",
        "import time\n",
        "import math\n",
        "from IPython.display import clear_output\n",
        "\n",
        "# ChessBoard\n",
        "\n",
        "def ChessBoardSetup():\n",
        "    # initialize and return a chess board - create a 2D 8x8 array that has the value for each cell\n",
        "    # USE the following characters for the chess pieces - lower-case for BLACK and upper-case for WHITE\n",
        "    # . for empty board cell\n",
        "    # p/P for pawn\n",
        "    # r/R for rook\n",
        "    # t/T for knight\n",
        "    # b/B for bishop\n",
        "    # q/Q for queen\n",
        "    # k/K for king\n",
        "    board = [\n",
        "        ['r', 't', 'b', 'q', 'k', 'b', 't', 'r'],\n",
        "        ['p', 'p', 'p', 'p', 'p', 'p', 'p', 'p'],\n",
        "        ['.', '.', '.', '.', '.', '.', '.', '.'],\n",
        "        ['.', '.', '.', '.', '.', '.', '.', '.'],\n",
        "        ['.', '.', '.', '.', '.', '.', '.', '.'],\n",
        "        ['.', '.', '.', '.', '.', '.', '.', '.'],\n",
        "        ['P', 'P', 'P', 'P', 'P', 'P', 'P', 'P'],\n",
        "        ['R', 'T', 'B', 'Q', 'K', 'B', 'T', 'R']\n",
        "    ]\n",
        "    return board\n",
        "\n",
        "def DrawBoard(board):\n",
        "    # write code to print the board\n",
        "    for row in board:\n",
        "        print(' '.join(row))\n",
        "\n",
        "def MovePiece(board, from_pos, to_pos):\n",
        "    # write code to move the one chess piece\n",
        "    # you do not have to worry about the validity of the move - this will be done before calling this function\n",
        "    # this function will at least take the move (from-piece and to-piece) as input and return the new board layout\n",
        "    from_row, from_col = from_pos\n",
        "    to_row, to_col = to_pos\n",
        "    piece = board[from_row][from_col]\n",
        "    board[from_row][from_col] = '.'\n",
        "    board[to_row][to_col] = piece\n",
        "    return board\n",
        "\n",
        "\n",
        "\n",
        "\n"
      ],
      "execution_count": null,
      "outputs": []
    },
    {
      "cell_type": "markdown",
      "metadata": {
        "id": "lYxmgcnes9cS"
      },
      "source": [
        "##ChessRules\n",
        "\n",
        "(50 points)\n",
        "\n",
        "Fill the code in the code structure provided below for ChessRules. The main use of the code block is to write functions to design the rules for movement of each piece on the board. This block will also contain the function to check if the current player is in check, check-mate. You can also have functions that can return the current player's pieces that have legal moves in the current board state.\n",
        "\n",
        "Following are some **suggested** functions with the pseudocode provided. You can create/remove functions as needed.\n"
      ]
    },
    {
      "cell_type": "code",
      "metadata": {
        "id": "fbBNakSDq0Wv"
      },
      "source": [
        "def IsMoveLegal(board, from_square, to_square):\n",
        "    from_piece = board[from_square[0]][from_square[1]]\n",
        "    to_piece = board[to_square[0]][to_square[1]]\n",
        "\n",
        "    # if from-square is the same as to-square\n",
        "    if from_square == to_square:\n",
        "        return False\n",
        "\n",
        "    # if the from-piece is a \"pawn\"\n",
        "    if from_piece.lower() == 'p':\n",
        "        if to_piece == '.' and from_square[1] == to_square[1]:\n",
        "            if (from_piece.islower() and to_square[0] - from_square[0] == 1) or (from_piece.isupper() and to_square[0] - from_square[0] == -1):\n",
        "                return True\n",
        "        elif to_piece == '.' and from_square[0] == 1 and to_square[0] == 3 and from_square[1] == to_square[1]:\n",
        "            if IsClearPath(board, from_square, to_square):\n",
        "                return True\n",
        "        elif to_piece != '.' and abs(to_square[0] - from_square[0]) == 1 and abs(to_square[1] - from_square[1]) == 1:\n",
        "            if (from_piece.islower() and to_piece.isupper()) or (from_piece.isupper() and to_piece.islower()):\n",
        "                return True\n",
        "\n",
        "    # else if the from-piece is a \"rook\"\n",
        "    elif from_piece.lower() == 'r':\n",
        "        if from_square[0] == to_square[0] or from_square[1] == to_square[1]:\n",
        "            if to_piece == '.' or (from_piece.islower() and to_piece.isupper()) or (from_piece.isupper() and to_piece.islower()):\n",
        "                if IsClearPath(board, from_square, to_square):\n",
        "                    return True\n",
        "\n",
        "    # else if the from-piece is a \"bishop\"\n",
        "    elif from_piece.lower() == 'b':\n",
        "        if abs(to_square[0] - from_square[0]) == abs(to_square[1] - from_square[1]):\n",
        "            if to_piece == '.' or (from_piece.islower() and to_piece.isupper()) or (from_piece.isupper() and to_piece.islower()):\n",
        "                if IsClearPath(board, from_square, to_square):\n",
        "                    return True\n",
        "\n",
        "    # else if the from-piece is a \"queen\"\n",
        "    elif from_piece.lower() == 'q':\n",
        "        if from_square[0] == to_square[0] or from_square[1] == to_square[1]:\n",
        "            if to_piece == '.' or (from_piece.islower() and to_piece.isupper()) or (from_piece.isupper() and to_piece.islower()):\n",
        "                if IsClearPath(board, from_square, to_square):\n",
        "                    return True\n",
        "        elif abs(to_square[0] - from_square[0]) == abs(to_square[1] - from_square[1]):\n",
        "            if to_piece == '.' or (from_piece.islower() and to_piece.isupper()) or (from_piece.isupper() and to_piece.islower()):\n",
        "                if IsClearPath(board, from_square, to_square):\n",
        "                    return True\n",
        "\n",
        "    # else if the from-piece is a \"knight\"\n",
        "    elif from_piece.lower() == 't':\n",
        "        col_diff = to_square[1] - from_square[1]\n",
        "        row_diff = to_square[0] - from_square[0]\n",
        "        if to_piece == '.' or (from_piece.islower() and to_piece.isupper()) or (from_piece.isupper() and to_piece.islower()):\n",
        "            if (abs(col_diff) == 1 and abs(row_diff) == 2) or (abs(col_diff) == 2 and abs(row_diff) == 1):\n",
        "                return True\n",
        "\n",
        "    # else if the from-piece is a \"king\"\n",
        "    elif from_piece.lower() == 'k':\n",
        "        col_diff = to_square[1] - from_square[1]\n",
        "        row_diff = to_square[0] - from_square[0]\n",
        "        if to_piece == '.' or (from_piece.islower() and to_piece.isupper()) or (from_piece.isupper() and to_piece.islower()):\n",
        "            if (abs(col_diff) == 1 and abs(row_diff) == 0) or (abs(col_diff) == 0 and abs(row_diff) == 1) or (abs(col_diff) == 1 and abs(row_diff) == 1):\n",
        "                return True\n",
        "\n",
        "    return False\n",
        "\n",
        "def GetListOfLegalMoves(board, player, from_square):\n",
        "    legal_moves = []\n",
        "\n",
        "    for row in range(len(board)):\n",
        "        for col in range(len(board[row])):\n",
        "            to_square = (row, col)\n",
        "            if IsMoveLegal(board, from_square, to_square):\n",
        "                if not DoesMovePutPlayerInCheck(board, player, from_square, to_square):\n",
        "                    legal_moves.append(to_square)\n",
        "\n",
        "    return legal_moves\n",
        "\n",
        "def GetPiecesWithLegalMoves(board, player):\n",
        "    pieces_with_legal_moves = []\n",
        "\n",
        "    for row in range(len(board)):\n",
        "        for col in range(len(board[row])):\n",
        "            square = (row, col)\n",
        "            if (player == 'white' and board[row][col].isupper()) or (player == 'black' and board[row][col].islower()):\n",
        "                legal_moves = GetListOfLegalMoves(board, player, square)\n",
        "                if len(legal_moves) > 0:\n",
        "                    pieces_with_legal_moves.append(square)\n",
        "\n",
        "    return pieces_with_legal_moves\n",
        "\n",
        "def IsCheckmate(board, player):\n",
        "    pieces_with_legal_moves = GetPiecesWithLegalMoves(board, player)\n",
        "    return len(pieces_with_legal_moves) == 0\n",
        "\n",
        "\n",
        "def IsInCheck(board, player):\n",
        "    king_square = None\n",
        "\n",
        "    for row in range(len(board)):\n",
        "        for col in range(len(board[row])):\n",
        "            square = (row, col)\n",
        "            if (player == 'white' and board[row][col] == 'K') or (player == 'black' and board[row][col] == 'k'):\n",
        "                king_square = square\n",
        "                break\n",
        "        if king_square is not None:\n",
        "            break\n",
        "\n",
        "    for row in range(len(board)):\n",
        "        for col in range(len(board[row])):\n",
        "            square = (row, col)\n",
        "            if (player == 'white' and board[row][col].islower()) or (player == 'black' and board[row][col].isupper()):\n",
        "                if IsMoveLegal(board, square, king_square):\n",
        "                    return True\n",
        "\n",
        "    return False\n",
        "\n",
        "def IsClearPath(board, from_square, to_square):\n",
        "    # If the from and to squares are only one square apart\n",
        "    if abs(to_square[0] - from_square[0]) <= 1 and abs(to_square[1] - from_square[1]) <= 1:\n",
        "        return True\n",
        "\n",
        "    # Determine the direction of movement\n",
        "    row_direction = to_square[0] - from_square[0]\n",
        "    col_direction = to_square[1] - from_square[1]\n",
        "\n",
        "    # Calculate the next square based on the direction of movement\n",
        "    if row_direction > 0:\n",
        "        new_from_square = (from_square[0] + 1, from_square[1])\n",
        "    elif row_direction < 0:\n",
        "        new_from_square = (from_square[0] - 1, from_square[1])\n",
        "    elif col_direction > 0:\n",
        "        new_from_square = (from_square[0], from_square[1] + 1)\n",
        "    elif col_direction < 0:\n",
        "        new_from_square = (from_square[0], from_square[1] - 1)\n",
        "    elif row_direction > 0 and col_direction > 0:\n",
        "        new_from_square = (from_square[0] + 1, from_square[1] + 1)\n",
        "    elif row_direction > 0 and col_direction < 0:\n",
        "        new_from_square = (from_square[0] + 1, from_square[1] - 1)\n",
        "    elif row_direction < 0 and col_direction > 0:\n",
        "        new_from_square = (from_square[0] - 1, from_square[1] + 1)\n",
        "    elif row_direction < 0 and col_direction < 0:\n",
        "        new_from_square = (from_square[0] - 1, from_square[1] - 1)\n",
        "\n",
        "    # Check if the new-from-square is not empty\n",
        "    if board[new_from_square[0]][new_from_square[1]] != '.':\n",
        "        return False\n",
        "    else:\n",
        "        # Recursively call IsClearPath() with the new-from-square and to-square\n",
        "        return IsClearPath(board, new_from_square, to_square)\n",
        "\n",
        "\n",
        "def DoesMovePutPlayerInCheck(board, player, from_square, to_square):\n",
        "    from_row, from_col = from_square\n",
        "    to_row, to_col = to_square\n",
        "    from_piece = board[from_row][from_col]\n",
        "    to_piece = board[to_row][to_col]\n",
        "\n",
        "    board[from_row][from_col] = '.'\n",
        "    board[to_row][to_col] = from_piece\n",
        "\n",
        "    in_check = IsInCheck(board, player)\n",
        "\n",
        "    board[from_row][from_col] = from_piece\n",
        "    board[to_row][to_col] = to_piece\n",
        "\n",
        "    return in_check\n"
      ],
      "execution_count": null,
      "outputs": []
    },
    {
      "cell_type": "markdown",
      "metadata": {
        "id": "onnqJYTEq0l3"
      },
      "source": [
        "#Artificial Intelligence\n",
        "\n",
        "In this section, you will write code for the Artificial Intelligence (AI) that will play a game of chess. You will write 2 types of AI:\n",
        "\n",
        "1.   **RandomAI** - This part will contain code for moving a chess piece randomly.\n",
        "2.   **MinMaxAI** - This part will contain code for moving a chess piece using the MinMax strategy discussed in the lecture.\n"
      ]
    },
    {
      "cell_type": "markdown",
      "metadata": {
        "id": "eDNztBkTtRPw"
      },
      "source": [
        "##RandomAI\n",
        "\n",
        "(10 points)\n",
        "\n",
        "Complete the function below that will perform a random move for the given player. The function will return the move (from-piece and to-piece). You will most likely not need to write any other function, but you can, if needed.\n"
      ]
    },
    {
      "cell_type": "code",
      "metadata": {
        "id": "XELGzRDftS77"
      },
      "source": [
        "def GetRandomMove(board, player):\n",
        "    pieces_with_legal_moves = GetPiecesWithLegalMoves(board, player)\n",
        "    if len(pieces_with_legal_moves) == 0:\n",
        "        return None\n",
        "\n",
        "    from_square = random.choice(pieces_with_legal_moves)\n",
        "    legal_moves = GetListOfLegalMoves(board, player, from_square)\n",
        "    to_square = random.choice(legal_moves)\n",
        "\n",
        "    return from_square, to_square\n"
      ],
      "execution_count": null,
      "outputs": []
    },
    {
      "cell_type": "markdown",
      "metadata": {
        "id": "YvYowzzA4vcd"
      },
      "source": [
        "##MinMaxAI\n",
        "\n",
        "(50 points)\n",
        "\n",
        "Complete the functions below that will perform a move for the given player using the MinMax AI strategy. One function will evaluate the board if a move is performed - give score for each of piece and calculate the score for the entire chess board. In the second function you will write actual code for the MinMax strategy and return the move (from-piece and to-piece). To get the allocated points, searching should be **2-ply (one Max and one Min)**. You will most likely not need to write any other function, but you can, if needed.\n",
        "\n",
        "## Extra Credit\n",
        "\n",
        "*   **(5 points)** Modify the above MinMax strategy to be **4-ply (one Max, one Min, one Max, one Min)**.\n",
        "*   **(10 points)** Perform **alpha-beta pruning** for the MinMax strategy."
      ]
    },
    {
      "cell_type": "code",
      "metadata": {
        "id": "FYSK99zp5a7H"
      },
      "source": [
        "#helper function\n",
        "def GetPieceValue(piece):\n",
        "    if piece == 'P' or piece == 'p':\n",
        "        return 1\n",
        "    elif piece == 'N' or piece == 'n':\n",
        "        return 3\n",
        "    elif piece == 'B' or piece == 'b':\n",
        "        return 3\n",
        "    elif piece == 'R' or piece == 'r':\n",
        "        return 5\n",
        "    elif piece == 'Q' or piece == 'q':\n",
        "        return 9\n",
        "    elif piece == 'K' or piece == 'k':\n",
        "        return 100\n",
        "    else:\n",
        "        return 0\n",
        "\n",
        "def evl(board, player):\n",
        "    score = 0\n",
        "\n",
        "    for row in range(len(board)):\n",
        "        for col in range(len(board[row])):\n",
        "            piece = board[row][col]\n",
        "\n",
        "            if piece == '.':\n",
        "                continue\n",
        "\n",
        "            if piece.islower():\n",
        "                if player == 'black':\n",
        "                    score -= GetPieceValue(piece)\n",
        "                else:\n",
        "                    score += GetPieceValue(piece.upper())\n",
        "            else:\n",
        "                if player == 'white':\n",
        "                    score += GetPieceValue(piece)\n",
        "                else:\n",
        "                    score -= GetPieceValue(piece.lower())\n",
        "\n",
        "    return score\n",
        "\n",
        "#helper function\n",
        "def GetEnemyPlayer(player):\n",
        "    if player == 'white':\n",
        "        return 'black'\n",
        "    elif player == 'black':\n",
        "        return 'white'\n",
        "    else:\n",
        "        return None\n",
        "\n",
        "def GetMinMaxMove(board, player):\n",
        "    pieces_with_legal_moves = GetPiecesWithLegalMoves(board, player)\n",
        "    if len(pieces_with_legal_moves) == 0:\n",
        "        return None\n",
        "\n",
        "    best_move = None\n",
        "    best_score = -math.inf\n",
        "\n",
        "    for from_square in pieces_with_legal_moves:\n",
        "        legal_moves = GetListOfLegalMoves(board, player, from_square)\n",
        "        for to_square in legal_moves:\n",
        "            from_row, from_col = from_square\n",
        "            to_row, to_col = to_square\n",
        "            from_piece = board[from_row][from_col]\n",
        "            to_piece = board[to_row][to_col]\n",
        "\n",
        "            board[from_row][from_col] = '.'\n",
        "            board[to_row][to_col] = from_piece\n",
        "\n",
        "            enemy_pieces_with_legal_moves = GetPiecesWithLegalMoves(board, GetEnemyPlayer(player))\n",
        "            best_enemy_move = None\n",
        "            best_enemy_score = math.inf\n",
        "\n",
        "            for enemy_from_square in enemy_pieces_with_legal_moves:\n",
        "                enemy_legal_moves = GetListOfLegalMoves(board, GetEnemyPlayer(player), enemy_from_square)\n",
        "                for enemy_to_square in enemy_legal_moves:\n",
        "                    enemy_from_row, enemy_from_col = enemy_from_square\n",
        "                    enemy_to_row, enemy_to_col = enemy_to_square\n",
        "                    enemy_from_piece = board[enemy_from_row][enemy_from_col]\n",
        "                    enemy_to_piece = board[enemy_to_row][enemy_to_col]\n",
        "\n",
        "                    board[enemy_from_row][enemy_from_col] = '.'\n",
        "                    board[enemy_to_row][enemy_to_col] = enemy_from_piece\n",
        "\n",
        "                    score = evl(board, player)\n",
        "\n",
        "                    if score < best_enemy_score:\n",
        "                        best_enemy_score = score\n",
        "                        best_enemy_move = (enemy_from_square, enemy_to_square)\n",
        "\n",
        "                    board[enemy_from_row][enemy_from_col] = enemy_from_piece\n",
        "                    board[enemy_to_row][enemy_to_col] = enemy_to_piece\n",
        "\n",
        "            if best_enemy_score > best_score:\n",
        "                best_score = best_enemy_score\n",
        "                best_move = (from_square, to_square)\n",
        "\n",
        "            board[from_row][from_col] = from_piece\n",
        "            board[to_row][to_col] = to_piece\n",
        "\n",
        "    if best_move is None:\n",
        "        return None\n",
        "\n",
        "    return best_move\n"
      ],
      "execution_count": null,
      "outputs": []
    },
    {
      "cell_type": "markdown",
      "metadata": {
        "id": "YCsUNyl3KWrb"
      },
      "source": [
        "#Game Setup & Main Loop\n",
        "\n",
        "(05 points)\n",
        "\n",
        "Write code below to have a game-play between two AIs - Random vs MinMax. For each iteration, draw the board before and after a turn."
      ]
    },
    {
      "cell_type": "code",
      "metadata": {
        "id": "oYcy29SdK3Xn",
        "colab": {
          "base_uri": "https://localhost:8080/"
        },
        "outputId": "c3f0b889-15ea-4378-a2e0-20fc429e41e1"
      },
      "source": [
        "\n",
        "\n",
        "# Initialize and setup the board\n",
        "board = ChessBoardSetup()\n",
        "player1 = 'white'  # Random AI\n",
        "player2 = 'black'  # MinMax AI\n",
        "turns = 0\n",
        "N = 150  #Prevent Infinite loop\n",
        "\n",
        "# Main game loop\n",
        "while not IsCheckmate(board, player1) and not IsCheckmate(board, player2) and turns < N:\n",
        "    clear_output()\n",
        "    DrawBoard(board)\n",
        "\n",
        "    if turns % 2 == 0:\n",
        "        # Player 1 (RandomAI) makes a move\n",
        "        from_square, to_square = GetRandomMove(board, player1)\n",
        "        if from_square is None or to_square is None:\n",
        "            print(\"Stalemate!\")\n",
        "            break\n",
        "        board = MovePiece(board, from_square, to_square)\n",
        "        turns += 1\n",
        "    else:\n",
        "        # Player 2 (MinMaxAI) makes a move\n",
        "        from_square, to_square = GetMinMaxMove(board, player2)\n",
        "        if from_square is None or to_square is None:\n",
        "            print(\"Stalemate!\")\n",
        "            break\n",
        "        board = MovePiece(board, from_square, to_square)\n",
        "        turns += 1\n",
        "    print('\\n')\n",
        "    DrawBoard(board)\n",
        "    time.sleep(0.5)\n",
        "\n",
        "# Check and print - Stalemate or Checkmate\n",
        "if IsCheckmate(board, player1):\n",
        "    print(\"Checkmate! Player 2 wins!\")\n",
        "elif IsCheckmate(board, player2):\n",
        "    print(\"Checkmate! Player 1 wins!\")\n",
        "else:\n",
        "    print(\"Stalemate!\")\n"
      ],
      "execution_count": null,
      "outputs": [
        {
          "output_type": "stream",
          "name": "stdout",
          "text": [
            ". . . k . b . r\n",
            "p . . p . p . p\n",
            ". . . . . p . P\n",
            ". . . b . . . .\n",
            ". . . p . . . .\n",
            ". . . . . . K .\n",
            ". . . . . . . .\n",
            ". . T . . . . .\n",
            "\n",
            "\n",
            ". . k . . b . r\n",
            "p . . p . p . p\n",
            ". . . . . p . P\n",
            ". . . b . . . .\n",
            ". . . p . . . .\n",
            ". . . . . . K .\n",
            ". . . . . . . .\n",
            ". . T . . . . .\n",
            "Stalemate!\n"
          ]
        }
      ]
    },
    {
      "cell_type": "markdown",
      "metadata": {
        "id": "YJSFgNBQrhQU"
      },
      "source": [
        "#Submission Instructions\n",
        "\n",
        "1.   Complete all tasks above - **File MUST contain the output for ALL cells**\n",
        "2.   Export this notebook as .ipynb\n",
        "      (File > Download as ipynb)\n",
        "3.   Upload the .ipynb file on Blackboard\n",
        "\n"
      ]
    },
    {
      "cell_type": "markdown",
      "metadata": {
        "id": "0lGvLE9H6ptL"
      },
      "source": [
        "##Rubric\n",
        "\n",
        "*   (10 points) Chess Board Setup\n",
        "*   (50 points) Chess Rules Setup\n",
        "*   (10 points) Random AI\n",
        "*   (50 points) MinMax AI (2-ply)\n",
        "*   (05 points) Game Main Loop - Random vs MinMax\n",
        "*   (15 points) Extra Credit - 4-ply MinMax + alpha-beta pruning\n",
        "\n",
        "\n",
        "\n"
      ]
    }
  ]
}